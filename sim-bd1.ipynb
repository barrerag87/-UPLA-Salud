{
 "cells": [
  {
   "cell_type": "markdown",
   "metadata": {},
   "source": [
    "\n",
    "- **Edad (`Age`)**: Rango de 18 a 60 años.\n",
    "- **Altura (`Height_cm`)**: Altura en centímetros, simulada con una distribución normal (media = 170 cm, desviación estándar = 10 cm).\n",
    "- **Peso (`Weight_kg`)**: Peso en kilogramos, simulado con una distribución normal (media = 70 kg, desviación estándar = 15 kg).\n",
    "- **Índice de Masa Corporal (`BMI`)**: Calculado a partir del peso y la altura.\n",
    "- **Frecuencia Cardíaca Máxima Teórica (`Max_Heart_Rate`)**: Calculada como 220 menos la edad.\n",
    "- **Frecuencia Cardíaca en Reposo (`Rest_Heart_Rate`)**: Simulada en un rango de 60 a 80 latidos por minuto.\n",
    "- **VO2 Máximo Estimado (`VO2_Max`)**: Estimado utilizando la fórmula 15.3 * (Max_Heart_Rate / Rest_Heart_Rate).\n",
    "- **Test de Sit and Reach (`Sit_and_Reach_cm`)**: Flexibilidad, simulada con una distribución normal (media = 15 cm, desviación estándar = 5 cm).\n",
    "- **Fuerza de Agarre (`Handgrip_Strength_kg`)**: Simulada con una distribución normal (media = 35 kg, desviación estándar = 10 kg).\n",
    "- **Tiempo de Balance (`Balance_Time_sec`)**: Simulado con una distribución normal (media = 30 segundos, desviación estándar = 10 segundos).\n"
   ]
  },
  {
   "cell_type": "code",
   "execution_count": 1,
   "metadata": {},
   "outputs": [],
   "source": [
    "\n",
    "import pandas as pd\n",
    "import numpy as np\n",
    "\n",
    "# Simulando datos kinesiológicos\n",
    "np.random.seed(42)  # Para resultados reproducibles\n",
    "\n",
    "# Cantidad de muestras\n",
    "n_samples = 1000\n",
    "\n",
    "# Variables simuladas\n",
    "age = np.random.randint(18, 60, n_samples)  # Edad\n",
    "height = np.random.normal(170, 10, n_samples)  # Altura en cm\n",
    "weight = np.random.normal(70, 15, n_samples)  # Peso en kg\n",
    "bmi = weight / (height/100)**2  # Índice de masa corporal\n",
    "\n",
    "# Variables relacionadas con el rendimiento físico\n",
    "max_heart_rate = 220 - age  # Frecuencia cardíaca máxima teórica\n",
    "rest_heart_rate = np.random.randint(60, 80, n_samples)  # Frecuencia cardíaca en reposo\n",
    "vo2_max = (15.3 * (max_heart_rate / rest_heart_rate))  # VO2 máximo estimado\n",
    "\n",
    "# Variables de flexibilidad y fuerza\n",
    "sit_and_reach = np.random.normal(15, 5, n_samples)  # Test de Sit and Reach en cm\n",
    "handgrip_strength = np.random.normal(35, 10, n_samples)  # Fuerza de agarre en kg\n",
    "\n",
    "# Variables de balance y coordinación\n",
    "balance_time = np.random.normal(30, 10, n_samples)  # Tiempo de balance en segundos\n",
    "\n",
    "# Compilando todas las variables en un DataFrame de Pandas\n",
    "kinesiology_data = pd.DataFrame({\n",
    "    'Age': age,\n",
    "    'Height_cm': height,\n",
    "    'Weight_kg': weight,\n",
    "    'BMI': bmi,\n",
    "    'Max_Heart_Rate': max_heart_rate,\n",
    "    'Rest_Heart_Rate': rest_heart_rate,\n",
    "    'VO2_Max': vo2_max,\n",
    "    'Sit_and_Reach_cm': sit_and_reach,\n",
    "    'Handgrip_Strength_kg': handgrip_strength,\n",
    "    'Balance_Time_sec': balance_time\n",
    "})\n"
   ]
  },
  {
   "cell_type": "code",
   "execution_count": null,
   "metadata": {},
   "outputs": [],
   "source": [
    "kinesiology_data.to_excel('Kinesiology_Data_Simulation.xlsx', index=False)"
   ]
  }
 ],
 "metadata": {
  "kernelspec": {
   "display_name": "Python 3",
   "language": "python",
   "name": "python3"
  },
  "language_info": {
   "codemirror_mode": {
    "name": "ipython",
    "version": 3
   },
   "file_extension": ".py",
   "mimetype": "text/x-python",
   "name": "python",
   "nbconvert_exporter": "python",
   "pygments_lexer": "ipython3",
   "version": "3.11.8"
  }
 },
 "nbformat": 4,
 "nbformat_minor": 2
}
